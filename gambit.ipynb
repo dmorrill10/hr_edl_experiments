{
 "cells": [
  {
   "cell_type": "code",
   "execution_count": 1,
   "metadata": {},
   "outputs": [],
   "source": [
    "import numpy as np\n",
    "import mal_cfr_data.gambit as mcd_gambit"
   ]
  },
  {
   "cell_type": "markdown",
   "metadata": {},
   "source": [
    "# Constructing a Long Poker-Like Game"
   ]
  },
  {
   "cell_type": "markdown",
   "metadata": {},
   "source": [
    "TODO: This is too complicated.\n",
    "\n",
    "Each player is dealt one of n cards with replacement.\n",
    "All players act simultaneously on each round.\n",
    "Actions = {Fold, Raise, Predict Fold, Predict Raise, Cooperative Raise}\n",
    "Each player initially antes one chip into the pot.\n",
    "Raising adds one chip to the pot.\n",
    "After each round, the value in the pot grows according to a fixed interest rate (e.g., 100% so that it doubles).\n",
    "When players Fold they forfeit the chips they've put into the pot.\n",
    "If any player Raises and another player does not, all the players put a chip into the pot and a winner-take-all showdown results.\n",
    "Players get one chip every time they correctly predict a fold or a raise.\n",
    "If more than one player plays Cooperate, those players each get "
   ]
  },
  {
   "cell_type": "code",
   "execution_count": null,
   "metadata": {},
   "outputs": [],
   "source": []
  }
 ],
 "metadata": {
  "kernelspec": {
   "display_name": "Python 3",
   "language": "python",
   "name": "python3"
  },
  "language_info": {
   "codemirror_mode": {
    "name": "ipython",
    "version": 3
   },
   "file_extension": ".py",
   "mimetype": "text/x-python",
   "name": "python",
   "nbconvert_exporter": "python",
   "pygments_lexer": "ipython3",
   "version": "3.7.5"
  }
 },
 "nbformat": 4,
 "nbformat_minor": 2
}
