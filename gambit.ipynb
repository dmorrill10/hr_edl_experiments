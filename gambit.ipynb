{
 "cells": [
  {
   "cell_type": "code",
   "execution_count": 1,
   "metadata": {},
   "outputs": [],
   "source": [
    "import numpy as np\n",
    "import mal_cfr_data.gambit as mcd_gambit"
   ]
  },
  {
   "cell_type": "markdown",
   "metadata": {},
   "source": [
    "# Constructing a Long Poker-Like Game"
   ]
  },
  {
   "cell_type": "markdown",
   "metadata": {},
   "source": [
    "TODO: This is too complicated.\n",
    "\n",
    "Each player is dealt one of n cards with replacement.\n",
    "All players act simultaneously on each round.\n",
    "Actions = {Fold, Raise, Predict Fold, Predict Raise, Cooperative Raise}\n",
    "Each player initially antes one chip into the pot.\n",
    "Raising adds one chip to the pot.\n",
    "After each round, the value in the pot grows according to a fixed interest rate (e.g., 100% so that it doubles).\n",
    "When players Fold they forfeit the chips they've put into the pot.\n",
    "If any player Raises and another player does not, all the players put a chip into the pot and a winner-take-all showdown results.\n",
    "Players get one chip every time they correctly predict a fold or a raise.\n",
    "If more than one player plays Cooperate, those players each get "
   ]
  },
  {
   "cell_type": "markdown",
   "metadata": {},
   "source": [
    "# Simple Random Long Bushy EFG"
   ]
  },
  {
   "cell_type": "markdown",
   "metadata": {},
   "source": [
    "Each player is dealt one of n cards (n ranks) with replacement. All players act simultaneously on each round. All players must agree to Continue the game for it to continue and does so for D at most rounds.\n",
    "Each player must ante a chip at the beginning of the game and an extra chip to Continue the game.\n",
    "Players who want to Continue when the game ends get +1 added to their score.\n",
    "Players can Fold to stop the game without paying anything more or participating in a showdown.\n",
    "Cooperate costs -1 to the pot but the players who play this combine their cards for the showdown and split the pot.\n",
    "Challenge costs -1 and gives the challenger a +1 rank advantage during the showdown.\n",
    "Those who Continued are in the showdown as well but pay nothing else.\n",
    "Mimic costs -2 to the pot to copy a random non-Mimic's card.\n",
    "If all players choose Mimic, they split the pot."
   ]
  },
  {
   "cell_type": "code",
   "execution_count": null,
   "metadata": {},
   "outputs": [],
   "source": []
  }
 ],
 "metadata": {
  "kernelspec": {
   "display_name": "Python 3",
   "language": "python",
   "name": "python3"
  },
  "language_info": {
   "codemirror_mode": {
    "name": "ipython",
    "version": 3
   },
   "file_extension": ".py",
   "mimetype": "text/x-python",
   "name": "python",
   "nbconvert_exporter": "python",
   "pygments_lexer": "ipython3",
   "version": "3.7.5"
  }
 },
 "nbformat": 4,
 "nbformat_minor": 2
}
