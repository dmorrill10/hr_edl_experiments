{
 "cells": [
  {
   "cell_type": "code",
   "execution_count": 1,
   "metadata": {},
   "outputs": [],
   "source": [
    "import numpy as np\n",
    "import pandas as pd"
   ]
  },
  {
   "cell_type": "code",
   "execution_count": 14,
   "metadata": {},
   "outputs": [
    {
     "data": {
      "text/html": [
       "<div>\n",
       "<style scoped>\n",
       "    .dataframe tbody tr th:only-of-type {\n",
       "        vertical-align: middle;\n",
       "    }\n",
       "\n",
       "    .dataframe tbody tr th {\n",
       "        vertical-align: top;\n",
       "    }\n",
       "\n",
       "    .dataframe thead th {\n",
       "        text-align: right;\n",
       "    }\n",
       "</style>\n",
       "<table border=\"1\" class=\"dataframe\">\n",
       "  <thead>\n",
       "    <tr style=\"text-align: right;\">\n",
       "      <th></th>\n",
       "      <th>game_tag</th>\n",
       "      <th>sampler</th>\n",
       "      <th>seed</th>\n",
       "      <th>mode</th>\n",
       "      <th>row_alg</th>\n",
       "      <th>col_alg</th>\n",
       "      <th>value</th>\n",
       "    </tr>\n",
       "  </thead>\n",
       "  <tbody>\n",
       "    <tr>\n",
       "      <th>0</th>\n",
       "      <td>tiny_bridge</td>\n",
       "      <td>null</td>\n",
       "      <td>2.0</td>\n",
       "      <td>shuffled</td>\n",
       "      <td>CFR</td>\n",
       "      <td>CFR</td>\n",
       "      <td>20.20380</td>\n",
       "    </tr>\n",
       "    <tr>\n",
       "      <th>1</th>\n",
       "      <td>tiny_bridge</td>\n",
       "      <td>null</td>\n",
       "      <td>2.0</td>\n",
       "      <td>shuffled</td>\n",
       "      <td>CFR</td>\n",
       "      <td>CFR+</td>\n",
       "      <td>20.10390</td>\n",
       "    </tr>\n",
       "    <tr>\n",
       "      <th>2</th>\n",
       "      <td>tiny_bridge</td>\n",
       "      <td>null</td>\n",
       "      <td>2.0</td>\n",
       "      <td>shuffled</td>\n",
       "      <td>CFR</td>\n",
       "      <td>A-CFR</td>\n",
       "      <td>16.37950</td>\n",
       "    </tr>\n",
       "    <tr>\n",
       "      <th>3</th>\n",
       "      <td>tiny_bridge</td>\n",
       "      <td>null</td>\n",
       "      <td>2.0</td>\n",
       "      <td>shuffled</td>\n",
       "      <td>CFR</td>\n",
       "      <td>A-CFR+</td>\n",
       "      <td>16.57310</td>\n",
       "    </tr>\n",
       "    <tr>\n",
       "      <th>4</th>\n",
       "      <td>tiny_bridge</td>\n",
       "      <td>null</td>\n",
       "      <td>2.0</td>\n",
       "      <td>shuffled</td>\n",
       "      <td>CFR</td>\n",
       "      <td>PGPI(1)</td>\n",
       "      <td>6.81680</td>\n",
       "    </tr>\n",
       "    <tr>\n",
       "      <th>...</th>\n",
       "      <td>...</td>\n",
       "      <td>...</td>\n",
       "      <td>...</td>\n",
       "      <td>...</td>\n",
       "      <td>...</td>\n",
       "      <td>...</td>\n",
       "      <td>...</td>\n",
       "    </tr>\n",
       "    <tr>\n",
       "      <th>1773</th>\n",
       "      <td>leduc</td>\n",
       "      <td>null</td>\n",
       "      <td>NaN</td>\n",
       "      <td>fixed</td>\n",
       "      <td>BR</td>\n",
       "      <td>A-CFR</td>\n",
       "      <td>1.76323</td>\n",
       "    </tr>\n",
       "    <tr>\n",
       "      <th>1774</th>\n",
       "      <td>leduc</td>\n",
       "      <td>null</td>\n",
       "      <td>NaN</td>\n",
       "      <td>fixed</td>\n",
       "      <td>BR</td>\n",
       "      <td>A-CFR+</td>\n",
       "      <td>1.39958</td>\n",
       "    </tr>\n",
       "    <tr>\n",
       "      <th>1775</th>\n",
       "      <td>leduc</td>\n",
       "      <td>null</td>\n",
       "      <td>NaN</td>\n",
       "      <td>fixed</td>\n",
       "      <td>BR</td>\n",
       "      <td>PGPI(1)</td>\n",
       "      <td>1.35053</td>\n",
       "    </tr>\n",
       "    <tr>\n",
       "      <th>1776</th>\n",
       "      <td>leduc</td>\n",
       "      <td>null</td>\n",
       "      <td>NaN</td>\n",
       "      <td>fixed</td>\n",
       "      <td>BR</td>\n",
       "      <td>PGPI(100/sqrt(T))</td>\n",
       "      <td>1.41062</td>\n",
       "    </tr>\n",
       "    <tr>\n",
       "      <th>1777</th>\n",
       "      <td>leduc</td>\n",
       "      <td>null</td>\n",
       "      <td>NaN</td>\n",
       "      <td>fixed</td>\n",
       "      <td>BR</td>\n",
       "      <td>PI</td>\n",
       "      <td>3.14389</td>\n",
       "    </tr>\n",
       "  </tbody>\n",
       "</table>\n",
       "<p>1778 rows × 7 columns</p>\n",
       "</div>"
      ],
      "text/plain": [
       "         game_tag sampler  seed      mode row_alg            col_alg     value\n",
       "0     tiny_bridge    null   2.0  shuffled     CFR                CFR  20.20380\n",
       "1     tiny_bridge    null   2.0  shuffled     CFR               CFR+  20.10390\n",
       "2     tiny_bridge    null   2.0  shuffled     CFR              A-CFR  16.37950\n",
       "3     tiny_bridge    null   2.0  shuffled     CFR             A-CFR+  16.57310\n",
       "4     tiny_bridge    null   2.0  shuffled     CFR            PGPI(1)   6.81680\n",
       "...           ...     ...   ...       ...     ...                ...       ...\n",
       "1773        leduc    null   NaN     fixed      BR              A-CFR   1.76323\n",
       "1774        leduc    null   NaN     fixed      BR             A-CFR+   1.39958\n",
       "1775        leduc    null   NaN     fixed      BR            PGPI(1)   1.35053\n",
       "1776        leduc    null   NaN     fixed      BR  PGPI(100/sqrt(T))   1.41062\n",
       "1777        leduc    null   NaN     fixed      BR                 PI   3.14389\n",
       "\n",
       "[1778 rows x 7 columns]"
      ]
     },
     "execution_count": 14,
     "metadata": {},
     "output_type": "execute_result"
    }
   ],
   "source": [
    "data = pd.DataFrame.from_records(np.load('results/mal_cfr_data.npy', allow_pickle=True))\n",
    "data"
   ]
  },
  {
   "cell_type": "code",
   "execution_count": 15,
   "metadata": {},
   "outputs": [
    {
     "data": {
      "text/plain": [
       "array(['tiny_bridge', 'goofspiel', 'kuhn_3p', 'random_goofspiel', 'leduc'],\n",
       "      dtype=object)"
      ]
     },
     "execution_count": 15,
     "metadata": {},
     "output_type": "execute_result"
    }
   ],
   "source": [
    "games = data.game_tag.unique()\n",
    "games"
   ]
  },
  {
   "cell_type": "code",
   "execution_count": 17,
   "metadata": {},
   "outputs": [
    {
     "data": {
      "text/plain": [
       "array(['shuffled', 'sim', 'fixed'], dtype=object)"
      ]
     },
     "execution_count": 17,
     "metadata": {},
     "output_type": "execute_result"
    }
   ],
   "source": [
    "modes = data['mode'].unique()\n",
    "modes"
   ]
  },
  {
   "cell_type": "code",
   "execution_count": 119,
   "metadata": {},
   "outputs": [],
   "source": [
    "def det_table(game, mode):\n",
    "    assert mode == 'fixed' or mode == 'sim'\n",
    "    df = data.query(f'game_tag == \"{game}\" & mode == \"{mode}\"')\n",
    "    return df.pivot(index='row_alg', columns='col_alg', values='value')\n",
    "\n",
    "def without_br_row(df):\n",
    "    return df.query('row_alg != \"BR\"')\n",
    "\n",
    "def with_avg_row_col(df):\n",
    "    col_avgs = df.mean(axis=0).to_frame('avg').transpose()\n",
    "    row_avgs = df.mean(axis=1)\n",
    "    row_avgs = pd.concat([row_avgs, pd.Series({'avg': row_avgs.mean()})], axis=0)\n",
    "    row_avgs.name = 'avg'\n",
    "    df = pd.concat([df, col_avgs], axis=0)\n",
    "    return pd.concat([df, row_avgs], axis=1)"
   ]
  },
  {
   "cell_type": "code",
   "execution_count": 120,
   "metadata": {},
   "outputs": [
    {
     "name": "stdout",
     "output_type": "stream",
     "text": [
      "\\begin{tabular}{lrrrrrrrr}\n",
      "\\toprule\n",
      "{} &  A-CFR &  A-CFR+ &   CFR &  CFR+ &  PGPI(1) &  PGPI(100/sqrt(T)) &    PI &   avg \\\\\n",
      "\\midrule\n",
      "A-CFR             &    0.0 &    -0.2 & -11.6 &  -4.0 &     74.4 &               74.4 & 315.5 &  64.1 \\\\\n",
      "A-CFR+            &   46.7 &     0.0 &  60.1 &  -4.1 &     85.9 &               85.9 & 309.3 &  83.4 \\\\\n",
      "BR                &  196.1 &   107.0 & 117.5 &   8.1 &    139.7 &              139.7 & 692.4 & 200.1 \\\\\n",
      "CFR               &   58.3 &    54.8 &  -0.0 &   0.1 &    102.2 &              102.2 & 393.8 & 101.6 \\\\\n",
      "CFR+              &  147.8 &    54.3 &  91.8 &  -0.0 &    138.4 &              138.4 & 386.3 & 136.7 \\\\\n",
      "PGPI(1)           &    1.7 &    -2.6 &  -4.2 &  -6.7 &      0.0 &                0.0 & 332.6 &  45.8 \\\\\n",
      "PGPI(100/sqrt(T)) &    1.7 &    -2.6 &  -4.2 &  -6.7 &      0.0 &                0.0 & 332.6 &  45.8 \\\\\n",
      "PI                &  195.8 &   106.6 & 117.2 &   7.5 &    139.7 &              139.7 &   0.0 & 100.9 \\\\\n",
      "avg               &   81.0 &    39.7 &  45.8 &  -0.7 &     85.0 &               85.0 & 345.3 &  97.3 \\\\\n",
      "\\bottomrule\n",
      "\\end{tabular}\n",
      "\n"
     ]
    }
   ],
   "source": [
    "print((with_avg_row_col(det_table('kuhn_3p', 'fixed')) * 1000).to_latex(float_format=\"{:0.1f}\".format, index_names=False))"
   ]
  },
  {
   "cell_type": "code",
   "execution_count": null,
   "metadata": {},
   "outputs": [],
   "source": []
  }
 ],
 "metadata": {
  "kernelspec": {
   "display_name": "Python 3",
   "language": "python",
   "name": "python3"
  },
  "language_info": {
   "codemirror_mode": {
    "name": "ipython",
    "version": 3
   },
   "file_extension": ".py",
   "mimetype": "text/x-python",
   "name": "python",
   "nbconvert_exporter": "python",
   "pygments_lexer": "ipython3",
   "version": "3.7.5"
  }
 },
 "nbformat": 4,
 "nbformat_minor": 2
}
